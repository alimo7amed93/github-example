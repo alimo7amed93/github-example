{
 "cells": [
  {
   "cell_type": "markdown",
   "metadata": {
    "collapsed": true
   },
   "source": [
    "# Capstone Project"
   ]
  },
  {
   "cell_type": "markdown",
   "metadata": {},
   "source": [
    "## Importing libs"
   ]
  },
  {
   "cell_type": "code",
   "execution_count": 23,
   "metadata": {},
   "outputs": [],
   "source": [
    "import pandas as pd\n",
    "import numpy as np\n",
    "import urllib.request"
   ]
  },
  {
   "cell_type": "markdown",
   "metadata": {},
   "source": [
    "## Reading page "
   ]
  },
  {
   "cell_type": "code",
   "execution_count": 24,
   "metadata": {},
   "outputs": [],
   "source": [
    "url = \"https://en.wikipedia.org/wiki/List_of_postal_codes_of_Canada:_M\"\n",
    "page = urllib.request.urlopen(url)\n",
    "from bs4 import BeautifulSoup\n",
    "soup = BeautifulSoup(page, \"lxml\")"
   ]
  },
  {
   "cell_type": "markdown",
   "metadata": {},
   "source": [
    "## Finding table and cleaning data"
   ]
  },
  {
   "cell_type": "code",
   "execution_count": 34,
   "metadata": {},
   "outputs": [
    {
     "data": {
      "text/html": [
       "<div>\n",
       "<style scoped>\n",
       "    .dataframe tbody tr th:only-of-type {\n",
       "        vertical-align: middle;\n",
       "    }\n",
       "\n",
       "    .dataframe tbody tr th {\n",
       "        vertical-align: top;\n",
       "    }\n",
       "\n",
       "    .dataframe thead th {\n",
       "        text-align: right;\n",
       "    }\n",
       "</style>\n",
       "<table border=\"1\" class=\"dataframe\">\n",
       "  <thead>\n",
       "    <tr style=\"text-align: right;\">\n",
       "      <th></th>\n",
       "      <th>Postalcode</th>\n",
       "      <th>Borough</th>\n",
       "      <th>Neighborhood</th>\n",
       "    </tr>\n",
       "  </thead>\n",
       "  <tbody>\n",
       "    <tr>\n",
       "      <th>0</th>\n",
       "      <td>M3A</td>\n",
       "      <td>North York</td>\n",
       "      <td>Parkwoods</td>\n",
       "    </tr>\n",
       "    <tr>\n",
       "      <th>1</th>\n",
       "      <td>M4A</td>\n",
       "      <td>North York</td>\n",
       "      <td>Victoria Village</td>\n",
       "    </tr>\n",
       "    <tr>\n",
       "      <th>2</th>\n",
       "      <td>M5A</td>\n",
       "      <td>Downtown Toronto</td>\n",
       "      <td>Regent Park, Harbourfront</td>\n",
       "    </tr>\n",
       "    <tr>\n",
       "      <th>3</th>\n",
       "      <td>M6A</td>\n",
       "      <td>North York</td>\n",
       "      <td>Lawrence Manor, Lawrence Heights</td>\n",
       "    </tr>\n",
       "    <tr>\n",
       "      <th>4</th>\n",
       "      <td>M7A</td>\n",
       "      <td>Downtown Toronto</td>\n",
       "      <td>Queen's Park, Ontario Provincial Government</td>\n",
       "    </tr>\n",
       "  </tbody>\n",
       "</table>\n",
       "</div>"
      ],
      "text/plain": [
       "  Postalcode           Borough                                 Neighborhood\n",
       "0        M3A        North York                                    Parkwoods\n",
       "1        M4A        North York                             Victoria Village\n",
       "2        M5A  Downtown Toronto                    Regent Park, Harbourfront\n",
       "3        M6A        North York             Lawrence Manor, Lawrence Heights\n",
       "4        M7A  Downtown Toronto  Queen's Park, Ontario Provincial Government"
      ]
     },
     "execution_count": 34,
     "metadata": {},
     "output_type": "execute_result"
    }
   ],
   "source": [
    "# reading table to df\n",
    "\n",
    "My_table=soup.find('table', class_='wikitable sortable')\n",
    "A=[]\n",
    "B=[]\n",
    "C=[]\n",
    "for row in My_table.findAll('tr'):\n",
    "    cells=row.findAll('td')\n",
    "    if len(cells)==3:\n",
    "        A.append(cells[0].find(text=True))\n",
    "        B.append(cells[1].find(text=True))\n",
    "        C.append(cells[2].find(text=True))\n",
    "        \n",
    "df=pd.DataFrame(A,columns=['Postalcode'])\n",
    "df['Borough']=B\n",
    "df['Neighborhood']=C\n",
    "df = df.replace('\\n','', regex=True)\n",
    "\n",
    "\n",
    "# dropping not assigned borough and reseting index\n",
    "\n",
    "index_del=df[df['Borough']=='Not assigned'].index\n",
    "df.drop(index_del, inplace=True)\n",
    "df = df.reset_index()\n",
    "del df['index']\n",
    "\n",
    "\n",
    "# assigning borough to empty neighborhood and making it comma sperated\n",
    "df.loc[(df.Neighborhood == ''),'Neighborhood']=df.loc[(df.Neighborhood == ''),'Borough']\n",
    "df = df.replace(' / ',', ', regex=True)\n",
    "\n",
    "df.head()"
   ]
  },
  {
   "cell_type": "markdown",
   "metadata": {},
   "source": [
    "## Printing Shape"
   ]
  },
  {
   "cell_type": "code",
   "execution_count": 27,
   "metadata": {},
   "outputs": [
    {
     "data": {
      "text/plain": [
       "(103, 3)"
      ]
     },
     "execution_count": 27,
     "metadata": {},
     "output_type": "execute_result"
    }
   ],
   "source": [
    "df.shape"
   ]
  },
  {
   "cell_type": "markdown",
   "metadata": {},
   "source": [
    "# Reading Coordinates CSV and merging it with table"
   ]
  },
  {
   "cell_type": "code",
   "execution_count": 10,
   "metadata": {},
   "outputs": [
    {
     "name": "stdout",
     "output_type": "stream",
     "text": [
      "--2020-05-07 11:52:45--  http://cocl.us/Geospatial_data\n",
      "Resolving cocl.us (cocl.us)... 158.85.108.86, 158.85.108.83, 169.48.113.194\n",
      "Connecting to cocl.us (cocl.us)|158.85.108.86|:80... connected.\n",
      "HTTP request sent, awaiting response... 301 Moved Permanently\n",
      "Location: https://cocl.us/Geospatial_data [following]\n",
      "--2020-05-07 11:52:46--  https://cocl.us/Geospatial_data\n",
      "Connecting to cocl.us (cocl.us)|158.85.108.86|:443... connected.\n",
      "HTTP request sent, awaiting response... 301 Moved Permanently\n",
      "Location: https://ibm.box.com/shared/static/9afzr83pps4pwf2smjjcf1y5mvgb18rr.csv [following]\n",
      "--2020-05-07 11:52:47--  https://ibm.box.com/shared/static/9afzr83pps4pwf2smjjcf1y5mvgb18rr.csv\n",
      "Resolving ibm.box.com (ibm.box.com)... 185.235.236.197\n",
      "Connecting to ibm.box.com (ibm.box.com)|185.235.236.197|:443... connected.\n",
      "HTTP request sent, awaiting response... 301 Moved Permanently\n",
      "Location: /public/static/9afzr83pps4pwf2smjjcf1y5mvgb18rr.csv [following]\n",
      "--2020-05-07 11:52:47--  https://ibm.box.com/public/static/9afzr83pps4pwf2smjjcf1y5mvgb18rr.csv\n",
      "Reusing existing connection to ibm.box.com:443.\n",
      "HTTP request sent, awaiting response... 301 Moved Permanently\n",
      "Location: https://ibm.ent.box.com/public/static/9afzr83pps4pwf2smjjcf1y5mvgb18rr.csv [following]\n",
      "--2020-05-07 11:52:47--  https://ibm.ent.box.com/public/static/9afzr83pps4pwf2smjjcf1y5mvgb18rr.csv\n",
      "Resolving ibm.ent.box.com (ibm.ent.box.com)... 107.152.26.211\n",
      "Connecting to ibm.ent.box.com (ibm.ent.box.com)|107.152.26.211|:443... connected.\n",
      "HTTP request sent, awaiting response... 302 Found\n",
      "Location: https://public.boxcloud.com/d/1/b1!PPRM_Dh1DRbVczTJCd6ZOQpKcLfYV-MdHPZXzwOXnrG4oz0i3Edz0N-Q6sduDMu_0c8mmUGXe_WrYoqcCcz5BHTnAqUkywNZ0yqySbgdLDE7_915edLalAZsq71Ji1E6cBL3bzqc12IU642TTO7zyVwSqlxS6prbbJ3QLP7mya283CvUkHNUjK4bom1U3SMB7QU_WI-g0iim8NZXHzxUVbjwOxCp4p9FTanT-pf8u39Xj3F0cZ8Pmv3txTy8GOSolT8CTJ38VaNGOVTgHLd23mK9aFCyW0gRWAyoKXXstUwDKTcLlFxp6UQmGTO6NNgz_l9FwUzbktsF9H0RgjWr6G5p6LWwPuXXv93G9Gh2WlVTH6y_DzCbEWRHpX-yZMmSOpPVUKk7gYylrzadqZFG4x6ZiA3ehXR3fV3yCCtVQsx--V-L9G8I4F-ku8uHSTLED0g4meqM_-9r7tdCZbw-vwGQ1WRfvGSrWsq0xePrzbqZFLXZawF8eH0h3HgI_j1kl6fFGrxh83yTu9qJ4BJ2sLpLzH9tSB2eXQz1zR4mN1z10kbqRlhMfdYwl_Mjs6-f0LTa0PZhEARacvZ8ds7orxqYe5RmpJe_XmO_2jbC49Y25dClYLByl5-zbUQrnRlm7b6WdKqCXlYPh21WtDiAJCD8o3c_a__lHKa_mWmrGjIzxz2c65Pbm1ewDTq32xQKgfz8n-bs6g0ecQhitWx3YauxJG6OC325NWkLrg28HnBfvv4qA-clRSXwzBXFcGrTcns2oMVsJNjFF6XjpeMnfu3ISlqx4BkpfK7CTtdPEZxoK4thJ078y7-pYOIfTP2oKqQ8cD_qeMhFrxTKNB0LVi_pJguQSjvPytjSWkhXjRxKze9EAX6PEMUrXIo-pIFTM96mvrIOVzd5qLlDQywz3fASoUG0B-j1knAzEEaHvA6sHJtrSgvGX3FfNIwO9iuou8D4oPG0A3GnZGnv5bb55tF7vpa9NyEhsrdGSzEWA84ozXauFFzmN4cSnBQug7Zc41ONxg8VRqiU8CkunoNDde4AkQYHoo1G9svJZDcbzISzobCB4oNuMRNYLZjLNglV3IeXmG0r_7RnmtHVV2nyasx25hnnKQi1aHdfZJz1VqQ4H5xqwRgVmjEcL_veGDP4SPOD6Wk9OhUg9jMMsqVh0HaxHOfaKdJxl_BG48U-hQSuClr-EcZhVxS22NUX_Btk57jPMGJiP9X3h-ExY7kpphcBg2fTWUkmDaDNdi4MPaO5Ky-35uKISflVefvP0k8Zb3xNYKb6bfLxXad3nVPTmm31V4vulCSTgHfuolyfTi8GBRMvMM07sAcno42aExdN--Dl4eFSdcCmg6xfSOp9qP609Es1-vua_0AviBdqcCNtYpJJOY6eXJTIIySe2j8-2gfOp0MjI17H_8fWokpWyLJZJFo-whcCty7LkGrK7ffo2L4./download [following]\n",
      "--2020-05-07 11:52:48--  https://public.boxcloud.com/d/1/b1!PPRM_Dh1DRbVczTJCd6ZOQpKcLfYV-MdHPZXzwOXnrG4oz0i3Edz0N-Q6sduDMu_0c8mmUGXe_WrYoqcCcz5BHTnAqUkywNZ0yqySbgdLDE7_915edLalAZsq71Ji1E6cBL3bzqc12IU642TTO7zyVwSqlxS6prbbJ3QLP7mya283CvUkHNUjK4bom1U3SMB7QU_WI-g0iim8NZXHzxUVbjwOxCp4p9FTanT-pf8u39Xj3F0cZ8Pmv3txTy8GOSolT8CTJ38VaNGOVTgHLd23mK9aFCyW0gRWAyoKXXstUwDKTcLlFxp6UQmGTO6NNgz_l9FwUzbktsF9H0RgjWr6G5p6LWwPuXXv93G9Gh2WlVTH6y_DzCbEWRHpX-yZMmSOpPVUKk7gYylrzadqZFG4x6ZiA3ehXR3fV3yCCtVQsx--V-L9G8I4F-ku8uHSTLED0g4meqM_-9r7tdCZbw-vwGQ1WRfvGSrWsq0xePrzbqZFLXZawF8eH0h3HgI_j1kl6fFGrxh83yTu9qJ4BJ2sLpLzH9tSB2eXQz1zR4mN1z10kbqRlhMfdYwl_Mjs6-f0LTa0PZhEARacvZ8ds7orxqYe5RmpJe_XmO_2jbC49Y25dClYLByl5-zbUQrnRlm7b6WdKqCXlYPh21WtDiAJCD8o3c_a__lHKa_mWmrGjIzxz2c65Pbm1ewDTq32xQKgfz8n-bs6g0ecQhitWx3YauxJG6OC325NWkLrg28HnBfvv4qA-clRSXwzBXFcGrTcns2oMVsJNjFF6XjpeMnfu3ISlqx4BkpfK7CTtdPEZxoK4thJ078y7-pYOIfTP2oKqQ8cD_qeMhFrxTKNB0LVi_pJguQSjvPytjSWkhXjRxKze9EAX6PEMUrXIo-pIFTM96mvrIOVzd5qLlDQywz3fASoUG0B-j1knAzEEaHvA6sHJtrSgvGX3FfNIwO9iuou8D4oPG0A3GnZGnv5bb55tF7vpa9NyEhsrdGSzEWA84ozXauFFzmN4cSnBQug7Zc41ONxg8VRqiU8CkunoNDde4AkQYHoo1G9svJZDcbzISzobCB4oNuMRNYLZjLNglV3IeXmG0r_7RnmtHVV2nyasx25hnnKQi1aHdfZJz1VqQ4H5xqwRgVmjEcL_veGDP4SPOD6Wk9OhUg9jMMsqVh0HaxHOfaKdJxl_BG48U-hQSuClr-EcZhVxS22NUX_Btk57jPMGJiP9X3h-ExY7kpphcBg2fTWUkmDaDNdi4MPaO5Ky-35uKISflVefvP0k8Zb3xNYKb6bfLxXad3nVPTmm31V4vulCSTgHfuolyfTi8GBRMvMM07sAcno42aExdN--Dl4eFSdcCmg6xfSOp9qP609Es1-vua_0AviBdqcCNtYpJJOY6eXJTIIySe2j8-2gfOp0MjI17H_8fWokpWyLJZJFo-whcCty7LkGrK7ffo2L4./download\n",
      "Resolving public.boxcloud.com (public.boxcloud.com)... 107.152.25.200\n",
      "Connecting to public.boxcloud.com (public.boxcloud.com)|107.152.25.200|:443... connected.\n",
      "HTTP request sent, awaiting response... 200 OK\n",
      "Length: 2891 (2.8K) [text/csv]\n",
      "Saving to: ‘Geospatial_Coordinates.csv’\n",
      "\n",
      "100%[======================================>] 2,891       --.-K/s   in 0s      \n",
      "\n",
      "2020-05-07 11:52:49 (173 MB/s) - ‘Geospatial_Coordinates.csv’ saved [2891/2891]\n",
      "\n"
     ]
    }
   ],
   "source": [
    "!wget -O Geospatial_Coordinates.csv http://cocl.us/Geospatial_data"
   ]
  },
  {
   "cell_type": "code",
   "execution_count": 28,
   "metadata": {},
   "outputs": [
    {
     "data": {
      "text/html": [
       "<div>\n",
       "<style scoped>\n",
       "    .dataframe tbody tr th:only-of-type {\n",
       "        vertical-align: middle;\n",
       "    }\n",
       "\n",
       "    .dataframe tbody tr th {\n",
       "        vertical-align: top;\n",
       "    }\n",
       "\n",
       "    .dataframe thead th {\n",
       "        text-align: right;\n",
       "    }\n",
       "</style>\n",
       "<table border=\"1\" class=\"dataframe\">\n",
       "  <thead>\n",
       "    <tr style=\"text-align: right;\">\n",
       "      <th></th>\n",
       "      <th>Postalcode</th>\n",
       "      <th>Latitude</th>\n",
       "      <th>Longitude</th>\n",
       "    </tr>\n",
       "  </thead>\n",
       "  <tbody>\n",
       "    <tr>\n",
       "      <th>0</th>\n",
       "      <td>M1B</td>\n",
       "      <td>43.806686</td>\n",
       "      <td>-79.194353</td>\n",
       "    </tr>\n",
       "    <tr>\n",
       "      <th>1</th>\n",
       "      <td>M1C</td>\n",
       "      <td>43.784535</td>\n",
       "      <td>-79.160497</td>\n",
       "    </tr>\n",
       "    <tr>\n",
       "      <th>2</th>\n",
       "      <td>M1E</td>\n",
       "      <td>43.763573</td>\n",
       "      <td>-79.188711</td>\n",
       "    </tr>\n",
       "    <tr>\n",
       "      <th>3</th>\n",
       "      <td>M1G</td>\n",
       "      <td>43.770992</td>\n",
       "      <td>-79.216917</td>\n",
       "    </tr>\n",
       "    <tr>\n",
       "      <th>4</th>\n",
       "      <td>M1H</td>\n",
       "      <td>43.773136</td>\n",
       "      <td>-79.239476</td>\n",
       "    </tr>\n",
       "  </tbody>\n",
       "</table>\n",
       "</div>"
      ],
      "text/plain": [
       "  Postalcode   Latitude  Longitude\n",
       "0        M1B  43.806686 -79.194353\n",
       "1        M1C  43.784535 -79.160497\n",
       "2        M1E  43.763573 -79.188711\n",
       "3        M1G  43.770992 -79.216917\n",
       "4        M1H  43.773136 -79.239476"
      ]
     },
     "execution_count": 28,
     "metadata": {},
     "output_type": "execute_result"
    }
   ],
   "source": [
    "df1 = pd.read_csv('Geospatial_Coordinates.csv')\n",
    "df1.rename(columns = {'Postal Code':'Postalcode'}, inplace = True)\n",
    "df1.head()"
   ]
  },
  {
   "cell_type": "code",
   "execution_count": 35,
   "metadata": {},
   "outputs": [
    {
     "data": {
      "text/html": [
       "<div>\n",
       "<style scoped>\n",
       "    .dataframe tbody tr th:only-of-type {\n",
       "        vertical-align: middle;\n",
       "    }\n",
       "\n",
       "    .dataframe tbody tr th {\n",
       "        vertical-align: top;\n",
       "    }\n",
       "\n",
       "    .dataframe thead th {\n",
       "        text-align: right;\n",
       "    }\n",
       "</style>\n",
       "<table border=\"1\" class=\"dataframe\">\n",
       "  <thead>\n",
       "    <tr style=\"text-align: right;\">\n",
       "      <th></th>\n",
       "      <th>Postalcode</th>\n",
       "      <th>Borough</th>\n",
       "      <th>Neighborhood</th>\n",
       "      <th>Latitude</th>\n",
       "      <th>Longitude</th>\n",
       "    </tr>\n",
       "  </thead>\n",
       "  <tbody>\n",
       "    <tr>\n",
       "      <th>0</th>\n",
       "      <td>M3A</td>\n",
       "      <td>North York</td>\n",
       "      <td>Parkwoods</td>\n",
       "      <td>43.753259</td>\n",
       "      <td>-79.329656</td>\n",
       "    </tr>\n",
       "    <tr>\n",
       "      <th>1</th>\n",
       "      <td>M4A</td>\n",
       "      <td>North York</td>\n",
       "      <td>Victoria Village</td>\n",
       "      <td>43.725882</td>\n",
       "      <td>-79.315572</td>\n",
       "    </tr>\n",
       "    <tr>\n",
       "      <th>2</th>\n",
       "      <td>M5A</td>\n",
       "      <td>Downtown Toronto</td>\n",
       "      <td>Regent Park, Harbourfront</td>\n",
       "      <td>43.654260</td>\n",
       "      <td>-79.360636</td>\n",
       "    </tr>\n",
       "    <tr>\n",
       "      <th>3</th>\n",
       "      <td>M6A</td>\n",
       "      <td>North York</td>\n",
       "      <td>Lawrence Manor, Lawrence Heights</td>\n",
       "      <td>43.718518</td>\n",
       "      <td>-79.464763</td>\n",
       "    </tr>\n",
       "    <tr>\n",
       "      <th>4</th>\n",
       "      <td>M7A</td>\n",
       "      <td>Downtown Toronto</td>\n",
       "      <td>Queen's Park, Ontario Provincial Government</td>\n",
       "      <td>43.662301</td>\n",
       "      <td>-79.389494</td>\n",
       "    </tr>\n",
       "  </tbody>\n",
       "</table>\n",
       "</div>"
      ],
      "text/plain": [
       "  Postalcode           Borough                                 Neighborhood  \\\n",
       "0        M3A        North York                                    Parkwoods   \n",
       "1        M4A        North York                             Victoria Village   \n",
       "2        M5A  Downtown Toronto                    Regent Park, Harbourfront   \n",
       "3        M6A        North York             Lawrence Manor, Lawrence Heights   \n",
       "4        M7A  Downtown Toronto  Queen's Park, Ontario Provincial Government   \n",
       "\n",
       "    Latitude  Longitude  \n",
       "0  43.753259 -79.329656  \n",
       "1  43.725882 -79.315572  \n",
       "2  43.654260 -79.360636  \n",
       "3  43.718518 -79.464763  \n",
       "4  43.662301 -79.389494  "
      ]
     },
     "execution_count": 35,
     "metadata": {},
     "output_type": "execute_result"
    }
   ],
   "source": [
    "df=pd.merge(df, df1, on=['Postalcode'])\n",
    "df.head()"
   ]
  },
  {
   "cell_type": "markdown",
   "metadata": {},
   "source": [
    "# Printing Shape"
   ]
  },
  {
   "cell_type": "code",
   "execution_count": 36,
   "metadata": {},
   "outputs": [
    {
     "data": {
      "text/plain": [
       "(103, 5)"
      ]
     },
     "execution_count": 36,
     "metadata": {},
     "output_type": "execute_result"
    }
   ],
   "source": [
    "df.shape"
   ]
  }
 ],
 "metadata": {
  "kernelspec": {
   "display_name": "Python 3.6",
   "language": "python",
   "name": "python3"
  },
  "language_info": {
   "codemirror_mode": {
    "name": "ipython",
    "version": 3
   },
   "file_extension": ".py",
   "mimetype": "text/x-python",
   "name": "python",
   "nbconvert_exporter": "python",
   "pygments_lexer": "ipython3",
   "version": "3.6.9"
  }
 },
 "nbformat": 4,
 "nbformat_minor": 1
}
